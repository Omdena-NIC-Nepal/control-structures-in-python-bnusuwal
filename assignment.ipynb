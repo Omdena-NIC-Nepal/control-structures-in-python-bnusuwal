{
 "cells": [
  {
   "cell_type": "code",
   "execution_count": null,
   "id": "bf6f40e3-9ecd-47bc-8f94-d36522b210af",
   "metadata": {},
   "outputs": [],
   "source": [
    "def for_loop_continue():\n",
    "     for num in range(1, 16):\n",
    "        if num % 3 == 0:\n",
    "            continue \n",
    "     print (num)\n",
    "    \n"
   ]
  },
  {
   "cell_type": "code",
   "execution_count": null,
   "id": "bd5750a1",
   "metadata": {},
   "outputs": [],
   "source": [
    "def while_loop():\n",
    "    number = 0\n",
    "    while number <= 20:\n",
    "        if number % 2==0:\n",
    "            print (number)\n",
    "        if number== 16:\n",
    "           break \n",
    "    number+=1"
   ]
  },
  {
   "cell_type": "code",
   "execution_count": null,
   "id": "edc38552-ae78-428e-84bb-2c6e1d65338a",
   "metadata": {},
   "outputs": [
    {
     "name": "stdout",
     "output_type": "stream",
     "text": [
      "0\n",
      "2\n",
      "4\n",
      "6\n",
      "8\n",
      "10\n",
      "12\n",
      "14\n",
      "16\n"
     ]
    }
   ],
   "source": [
    "\n",
    "def for_loop_continue():\n",
    "     for num in range(1, 16):\n",
    "        if num % 3 == 0:\n",
    "            continue \n",
    "     print (num)"
   ]
  },
  {
   "cell_type": "code",
   "execution_count": 7,
   "id": "3c76639a-99f1-47e0-89db-4af789f1b623",
   "metadata": {},
   "outputs": [
    {
     "name": "stdout",
     "output_type": "stream",
     "text": [
      "Enter a number:  0\n"
     ]
    },
    {
     "name": "stdout",
     "output_type": "stream",
     "text": [
      "The number is zero\n"
     ]
    }
   ],
   "source": [
    "number = int(input(\"Enter a number: \"))\n",
    "if number==0:\n",
    "    print(\"The number is zero\")\n",
    "\n",
    "elif number<0:\n",
    "    print (\"The number is negative\")\n",
    "else :\n",
    "    print(\"The number is positive\")\n",
    "    "
   ]
  },
  {
   "cell_type": "code",
   "execution_count": 25,
   "id": "0019ad48-89cc-4aec-bd83-b95a74cb5d4b",
   "metadata": {},
   "outputs": [
    {
     "name": "stdout",
     "output_type": "stream",
     "text": [
      "1 X 1=1\n",
      "1 X 2=2\n",
      "1 X 3=3\n",
      "1 X 4=4\n",
      "1 X 5=5\n",
      "\n",
      "2 X 1=2\n",
      "2 X 2=4\n",
      "2 X 3=6\n",
      "2 X 4=8\n",
      "2 X 5=10\n",
      "\n",
      "3 X 1=3\n",
      "3 X 2=6\n",
      "3 X 3=9\n",
      "3 X 4=12\n",
      "3 X 5=15\n",
      "\n",
      "4 X 1=4\n",
      "4 X 2=8\n",
      "4 X 3=12\n",
      "4 X 4=16\n",
      "4 X 5=20\n",
      "\n",
      "5 X 1=5\n",
      "5 X 2=10\n",
      "5 X 3=15\n",
      "5 X 4=20\n",
      "5 X 5=25\n",
      "\n"
     ]
    }
   ],
   "source": [
    "for i in range(1, 6):\n",
    "    for j in range(1, 6):\n",
    "        print (f\"{i} X {j}={i*j}\")\n",
    "    print()"
   ]
  },
  {
   "cell_type": "code",
   "execution_count": null,
   "id": "643078cb-e87f-4f66-93d1-90a5a1ffb9c3",
   "metadata": {},
   "outputs": [],
   "source": []
  }
 ],
 "metadata": {
  "kernelspec": {
   "display_name": "Python 3",
   "language": "python",
   "name": "python3"
  },
  "language_info": {
   "codemirror_mode": {
    "name": "ipython",
    "version": 3
   },
   "file_extension": ".py",
   "mimetype": "text/x-python",
   "name": "python",
   "nbconvert_exporter": "python",
   "pygments_lexer": "ipython3",
   "version": "3.11.1"
  }
 },
 "nbformat": 4,
 "nbformat_minor": 5
}
