{
 "cells": [
  {
   "cell_type": "code",
   "execution_count": 1,
   "id": "c79f4c6b-0302-4e33-8fbd-e4d0d716583e",
   "metadata": {},
   "outputs": [],
   "source": [
    "# Task 1: while loop\n",
    "def while_loop():\n",
    "    number = 0\n",
    "    while number <= 20:\n",
    "        if number % 2 == 0:\n",
    "            print(number)\n",
    "            if number == 16:\n",
    "                break\n",
    "        number += 1"
   ]
  },
  {
   "cell_type": "code",
   "execution_count": 3,
   "id": "e7039d6b-9796-46ac-a9be-a0c6efc635c2",
   "metadata": {},
   "outputs": [],
   "source": [
    "# Task 2: for loop with continue\n",
    "def for_loop_continue():\n",
    "    for num in range(1, 16):\n",
    "        if num % 3 == 0:\n",
    "            continue\n",
    "        print(num)"
   ]
  },
  {
   "cell_type": "code",
   "execution_count": 4,
   "id": "33d5b140-7640-40c6-9a97-db39828fd293",
   "metadata": {},
   "outputs": [],
   "source": [
    "# Task 3: if-else statement\n",
    "def number_classification():\n",
    "    number = int(input(\"Enter a number: \"))\n",
    "    if number > 0:\n",
    "        print(\"The number is positive\")\n",
    "    elif number < 0:\n",
    "        print(\"The number is negative\")\n",
    "    else:\n",
    "        print(\"The number is Zero\")"
   ]
  },
  {
   "cell_type": "code",
   "execution_count": 5,
   "id": "65646a19-2cb6-46b4-9246-b8c291992055",
   "metadata": {},
   "outputs": [],
   "source": [
    "# Task 4: Nested loops\n",
    "def multiplication_table():\n",
    "    for i in range(1, 6):\n",
    "        for j in range(1, 6):\n",
    "            print(f\"{i} x {j} = {i*j}\")\n"
   ]
  },
  {
   "cell_type": "code",
   "execution_count": null,
   "id": "6f7c4e49-3cd8-4fd5-ad39-e23cabc16768",
   "metadata": {},
   "outputs": [],
   "source": []
  },
  {
   "cell_type": "code",
   "execution_count": null,
   "id": "03f297dd-236a-42a6-b4d4-7ae04f946943",
   "metadata": {},
   "outputs": [],
   "source": []
  }
 ],
 "metadata": {
  "kernelspec": {
   "display_name": "Python 3 (ipykernel)",
   "language": "python",
   "name": "python3"
  },
  "language_info": {
   "codemirror_mode": {
    "name": "ipython",
    "version": 3
   },
   "file_extension": ".py",
   "mimetype": "text/x-python",
   "name": "python",
   "nbconvert_exporter": "python",
   "pygments_lexer": "ipython3",
   "version": "3.12.7"
  }
 },
 "nbformat": 4,
 "nbformat_minor": 5
}
